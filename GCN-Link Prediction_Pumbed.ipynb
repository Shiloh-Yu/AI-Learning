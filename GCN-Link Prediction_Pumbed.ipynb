{
 "cells": [
  {
   "cell_type": "code",
   "execution_count": 1,
   "metadata": {
    "tags": [
     "CloudRunner"
    ]
   },
   "outputs": [],
   "source": [
    "# install StellarGraph if running on Google Colab\n",
    "import sys\n",
    "if 'google.colab' in sys.modules:\n",
    "  %pip install -q stellargraph[demos]==1.2.1"
   ]
  },
  {
   "cell_type": "code",
   "execution_count": 2,
   "metadata": {
    "tags": [
     "VersionCheck"
    ]
   },
   "outputs": [],
   "source": [
    "# verify that we're using the correct version of StellarGraph for this notebook\n",
    "import stellargraph as sg\n",
    "\n",
    "try:\n",
    "    sg.utils.validate_notebook_version(\"1.2.1\")\n",
    "except AttributeError:\n",
    "    raise ValueError(\n",
    "        f\"This notebook requires StellarGraph version 1.2.1, but a different version {sg.__version__} is installed.  Please see <https://github.com/stellargraph/stellargraph/issues/1172>.\"\n",
    "    ) from None"
   ]
  },
  {
   "cell_type": "code",
   "execution_count": 3,
   "metadata": {},
   "outputs": [],
   "source": [
    "import stellargraph as sg\n",
    "from stellargraph.data import EdgeSplitter\n",
    "from stellargraph.mapper import FullBatchLinkGenerator\n",
    "from stellargraph.layer import GCN, LinkEmbedding\n",
    "\n",
    "\n",
    "from tensorflow import keras\n",
    "from sklearn import preprocessing, feature_extraction, model_selection\n",
    "import tensorflow as tf\n",
    "import numpy as np\n",
    "\n",
    "from stellargraph import globalvar\n",
    "from stellargraph import datasets\n",
    "from IPython.display import display, HTML\n",
    "%matplotlib inline"
   ]
  },
  {
   "cell_type": "code",
   "execution_count": 4,
   "metadata": {},
   "outputs": [
    {
     "data": {
      "text/html": [
       "The PubMed Diabetes dataset consists of 19717 scientific publications from PubMed database pertaining to diabetes classified into one of three classes. The citation network consists of 44338 links. Each publication in the dataset is described by a TF/IDF weighted word vector from a dictionary which consists of 500 unique words."
      ],
      "text/plain": [
       "<IPython.core.display.HTML object>"
      ]
     },
     "metadata": {},
     "output_type": "display_data"
    }
   ],
   "source": [
    "dataset = datasets.PubMedDiabetes()\n",
    "display(HTML(dataset.description))\n",
    "G, _ = dataset.load()"
   ]
  },
  {
   "cell_type": "code",
   "execution_count": 5,
   "metadata": {},
   "outputs": [
    {
     "name": "stdout",
     "output_type": "stream",
     "text": [
      "StellarGraph: Undirected multigraph\n",
      " Nodes: 19717, Edges: 44338\n",
      "\n",
      " Node types:\n",
      "  paper: [19717]\n",
      "    Features: float32 vector, length 500\n",
      "    Edge types: paper-cites->paper\n",
      "\n",
      " Edge types:\n",
      "    paper-cites->paper: [44338]\n",
      "        Weights: all 1 (default)\n"
     ]
    }
   ],
   "source": [
    "print(G.info())"
   ]
  },
  {
   "cell_type": "code",
   "execution_count": 6,
   "metadata": {},
   "outputs": [
    {
     "name": "stdout",
     "output_type": "stream",
     "text": [
      "Removed 1000 edges\n",
      "Removed 2000 edges\n",
      "Removed 3000 edges\n",
      "Removed 4000 edges\n",
      "Sampled 1000 negative examples\n",
      "Sampled 2000 negative examples\n",
      "Sampled 3000 negative examples\n",
      "Sampled 4000 negative examples\n",
      "** Sampled 4433 positive and 4433 negative edges. **\n"
     ]
    }
   ],
   "source": [
    "# Define an edge splitter on the original graph G:\n",
    "edge_splitter_test = EdgeSplitter(G)\n",
    "\n",
    "# Randomly sample a fraction p=0.1 of all positive links, and same number of negative links, from G, and obtain the\n",
    "# reduced graph G_test with the sampled links removed:\n",
    "G_test, edge_ids_test, edge_labels_test = edge_splitter_test.train_test_split(\n",
    "    p=0.1, method=\"global\", keep_connected=True\n",
    ")"
   ]
  },
  {
   "cell_type": "code",
   "execution_count": 7,
   "metadata": {},
   "outputs": [
    {
     "name": "stdout",
     "output_type": "stream",
     "text": [
      "Removed 1000 edges\n",
      "Removed 2000 edges\n",
      "Removed 3000 edges\n",
      "Sampled 1000 negative examples\n",
      "Sampled 2000 negative examples\n",
      "Sampled 3000 negative examples\n",
      "** Sampled 3990 positive and 3990 negative edges. **\n"
     ]
    }
   ],
   "source": [
    "# Define an edge splitter on the reduced graph G_test:\n",
    "edge_splitter_train = EdgeSplitter(G_test)\n",
    "\n",
    "# Randomly sample a fraction p=0.1 of all positive links, and same number of negative links, from G_test, and obtain the\n",
    "# reduced graph G_train with the sampled links removed:\n",
    "G_train, edge_ids_train, edge_labels_train = edge_splitter_train.train_test_split(\n",
    "    p=0.1, method=\"global\", keep_connected=True\n",
    ")"
   ]
  },
  {
   "cell_type": "code",
   "execution_count": 8,
   "metadata": {},
   "outputs": [],
   "source": [
    "epochs = 40"
   ]
  },
  {
   "cell_type": "code",
   "execution_count": 9,
   "metadata": {},
   "outputs": [
    {
     "name": "stdout",
     "output_type": "stream",
     "text": [
      "Using GCN (local pooling) filters...\n"
     ]
    }
   ],
   "source": [
    "train_gen = FullBatchLinkGenerator(G_train, method=\"gcn\")\n",
    "train_flow = train_gen.flow(edge_ids_train, edge_labels_train)"
   ]
  },
  {
   "cell_type": "code",
   "execution_count": 10,
   "metadata": {},
   "outputs": [
    {
     "name": "stdout",
     "output_type": "stream",
     "text": [
      "Using GCN (local pooling) filters...\n"
     ]
    }
   ],
   "source": [
    "test_gen = FullBatchLinkGenerator(G_test, method=\"gcn\")\n",
    "test_flow = train_gen.flow(edge_ids_test, edge_labels_test)"
   ]
  },
  {
   "cell_type": "code",
   "execution_count": 11,
   "metadata": {},
   "outputs": [],
   "source": [
    "gcn = GCN(\n",
    "    layer_sizes=[16, 16], activations=[\"relu\", \"relu\"], generator=train_gen, dropout=0.3\n",
    ")"
   ]
  },
  {
   "cell_type": "code",
   "execution_count": 12,
   "metadata": {},
   "outputs": [],
   "source": [
    "x_inp, x_out = gcn.in_out_tensors()"
   ]
  },
  {
   "cell_type": "code",
   "execution_count": 13,
   "metadata": {},
   "outputs": [],
   "source": [
    "prediction = LinkEmbedding(activation=\"relu\", method=\"ip\")(x_out)"
   ]
  },
  {
   "cell_type": "code",
   "execution_count": 14,
   "metadata": {},
   "outputs": [],
   "source": [
    "prediction = keras.layers.Reshape((-1,))(prediction)"
   ]
  },
  {
   "cell_type": "code",
   "execution_count": 15,
   "metadata": {},
   "outputs": [],
   "source": [
    "model = keras.Model(inputs=x_inp, outputs=prediction)\n",
    "\n",
    "model.compile(\n",
    "    optimizer=keras.optimizers.Adam(lr=0.01),\n",
    "    loss=keras.losses.binary_crossentropy,\n",
    "    metrics=[\"binary_accuracy\"],\n",
    ")"
   ]
  },
  {
   "cell_type": "code",
   "execution_count": 16,
   "metadata": {},
   "outputs": [
    {
     "name": "stdout",
     "output_type": "stream",
     "text": [
      "1/1 [==============================] - 1s 632ms/step - loss: 3.8242 - binary_accuracy: 0.5000\n",
      "1/1 [==============================] - 0s 1ms/step - loss: 3.8207 - binary_accuracy: 0.5000\n",
      "\n",
      "Train Set Metrics of the initial (untrained) model:\n",
      "\tloss: 3.8242\n",
      "\tbinary_accuracy: 0.5000\n",
      "\n",
      "Test Set Metrics of the initial (untrained) model:\n",
      "\tloss: 3.8207\n",
      "\tbinary_accuracy: 0.5000\n"
     ]
    }
   ],
   "source": [
    "init_train_metrics = model.evaluate(train_flow)\n",
    "init_test_metrics = model.evaluate(test_flow)\n",
    "\n",
    "print(\"\\nTrain Set Metrics of the initial (untrained) model:\")\n",
    "for name, val in zip(model.metrics_names, init_train_metrics):\n",
    "    print(\"\\t{}: {:0.4f}\".format(name, val))\n",
    "\n",
    "print(\"\\nTest Set Metrics of the initial (untrained) model:\")\n",
    "for name, val in zip(model.metrics_names, init_test_metrics):\n",
    "    print(\"\\t{}: {:0.4f}\".format(name, val))"
   ]
  },
  {
   "cell_type": "code",
   "execution_count": 17,
   "metadata": {},
   "outputs": [
    {
     "name": "stdout",
     "output_type": "stream",
     "text": [
      "Epoch 1/40\n",
      "1/1 - 0s - loss: 3.7786 - binary_accuracy: 0.5000 - val_loss: 1.8581 - val_binary_accuracy: 0.5000\n",
      "Epoch 2/40\n",
      "1/1 - 0s - loss: 1.8619 - binary_accuracy: 0.5000 - val_loss: 1.2115 - val_binary_accuracy: 0.5002\n",
      "Epoch 3/40\n",
      "1/1 - 0s - loss: 1.2208 - binary_accuracy: 0.5001 - val_loss: 0.8473 - val_binary_accuracy: 0.5159\n",
      "Epoch 4/40\n",
      "1/1 - 0s - loss: 0.8541 - binary_accuracy: 0.5129 - val_loss: 0.6158 - val_binary_accuracy: 0.6014\n",
      "Epoch 5/40\n",
      "1/1 - 0s - loss: 0.6220 - binary_accuracy: 0.6033 - val_loss: 0.5012 - val_binary_accuracy: 0.7555\n",
      "Epoch 6/40\n",
      "1/1 - 0s - loss: 0.5272 - binary_accuracy: 0.7513 - val_loss: 0.5710 - val_binary_accuracy: 0.8288\n",
      "Epoch 7/40\n",
      "1/1 - 0s - loss: 0.6084 - binary_accuracy: 0.8165 - val_loss: 0.8349 - val_binary_accuracy: 0.7913\n",
      "Epoch 8/40\n",
      "1/1 - 0s - loss: 0.8910 - binary_accuracy: 0.7697 - val_loss: 1.1146 - val_binary_accuracy: 0.7286\n",
      "Epoch 9/40\n",
      "1/1 - 0s - loss: 1.1477 - binary_accuracy: 0.7003 - val_loss: 1.1970 - val_binary_accuracy: 0.7030\n",
      "Epoch 10/40\n",
      "1/1 - 0s - loss: 1.2493 - binary_accuracy: 0.6949 - val_loss: 1.0908 - val_binary_accuracy: 0.7360\n",
      "Epoch 11/40\n",
      "1/1 - 0s - loss: 1.1244 - binary_accuracy: 0.7113 - val_loss: 0.8878 - val_binary_accuracy: 0.7814\n",
      "Epoch 12/40\n",
      "1/1 - 0s - loss: 0.9207 - binary_accuracy: 0.7576 - val_loss: 0.6864 - val_binary_accuracy: 0.8165\n",
      "Epoch 13/40\n",
      "1/1 - 0s - loss: 0.7354 - binary_accuracy: 0.7929 - val_loss: 0.5667 - val_binary_accuracy: 0.8297\n",
      "Epoch 14/40\n",
      "1/1 - 0s - loss: 0.5946 - binary_accuracy: 0.8135 - val_loss: 0.5156 - val_binary_accuracy: 0.8180\n",
      "Epoch 15/40\n",
      "1/1 - 0s - loss: 0.5310 - binary_accuracy: 0.8100 - val_loss: 0.4902 - val_binary_accuracy: 0.7849\n",
      "Epoch 16/40\n",
      "1/1 - 0s - loss: 0.5141 - binary_accuracy: 0.7821 - val_loss: 0.4962 - val_binary_accuracy: 0.7521\n",
      "Epoch 17/40\n",
      "1/1 - 0s - loss: 0.5229 - binary_accuracy: 0.7432 - val_loss: 0.5097 - val_binary_accuracy: 0.7157\n",
      "Epoch 18/40\n",
      "1/1 - 0s - loss: 0.5249 - binary_accuracy: 0.7155 - val_loss: 0.5301 - val_binary_accuracy: 0.6875\n",
      "Epoch 19/40\n",
      "1/1 - 0s - loss: 0.5428 - binary_accuracy: 0.6919 - val_loss: 0.5495 - val_binary_accuracy: 0.6654\n",
      "Epoch 20/40\n",
      "1/1 - 0s - loss: 0.5624 - binary_accuracy: 0.6638 - val_loss: 0.5633 - val_binary_accuracy: 0.6523\n",
      "Epoch 21/40\n",
      "1/1 - 0s - loss: 0.5726 - binary_accuracy: 0.6559 - val_loss: 0.5707 - val_binary_accuracy: 0.6454\n",
      "Epoch 22/40\n",
      "1/1 - 0s - loss: 0.5758 - binary_accuracy: 0.6516 - val_loss: 0.5720 - val_binary_accuracy: 0.6446\n",
      "Epoch 23/40\n",
      "1/1 - 0s - loss: 0.5808 - binary_accuracy: 0.6472 - val_loss: 0.5684 - val_binary_accuracy: 0.6480\n",
      "Epoch 24/40\n",
      "1/1 - 0s - loss: 0.5782 - binary_accuracy: 0.6490 - val_loss: 0.5596 - val_binary_accuracy: 0.6561\n",
      "Epoch 25/40\n",
      "1/1 - 0s - loss: 0.5706 - binary_accuracy: 0.6556 - val_loss: 0.5467 - val_binary_accuracy: 0.6695\n",
      "Epoch 26/40\n",
      "1/1 - 0s - loss: 0.5573 - binary_accuracy: 0.6684 - val_loss: 0.5308 - val_binary_accuracy: 0.6891\n",
      "Epoch 27/40\n",
      "1/1 - 0s - loss: 0.5462 - binary_accuracy: 0.6807 - val_loss: 0.5138 - val_binary_accuracy: 0.7080\n",
      "Epoch 28/40\n",
      "1/1 - 0s - loss: 0.5341 - binary_accuracy: 0.7029 - val_loss: 0.4999 - val_binary_accuracy: 0.7310\n",
      "Epoch 29/40\n",
      "1/1 - 0s - loss: 0.5203 - binary_accuracy: 0.7246 - val_loss: 0.4927 - val_binary_accuracy: 0.7501\n",
      "Epoch 30/40\n",
      "1/1 - 0s - loss: 0.5142 - binary_accuracy: 0.7477 - val_loss: 0.4822 - val_binary_accuracy: 0.7699\n",
      "Epoch 31/40\n",
      "1/1 - 0s - loss: 0.5003 - binary_accuracy: 0.7721 - val_loss: 0.4810 - val_binary_accuracy: 0.7885\n",
      "Epoch 32/40\n",
      "1/1 - 0s - loss: 0.5056 - binary_accuracy: 0.7812 - val_loss: 0.4917 - val_binary_accuracy: 0.8049\n",
      "Epoch 33/40\n",
      "1/1 - 0s - loss: 0.5102 - binary_accuracy: 0.7965 - val_loss: 0.5003 - val_binary_accuracy: 0.8131\n",
      "Epoch 34/40\n",
      "1/1 - 0s - loss: 0.5283 - binary_accuracy: 0.8010 - val_loss: 0.5141 - val_binary_accuracy: 0.8186\n",
      "Epoch 35/40\n",
      "1/1 - 0s - loss: 0.5328 - binary_accuracy: 0.8115 - val_loss: 0.5274 - val_binary_accuracy: 0.8234\n",
      "Epoch 36/40\n",
      "1/1 - 0s - loss: 0.5499 - binary_accuracy: 0.8120 - val_loss: 0.5330 - val_binary_accuracy: 0.8252\n",
      "Epoch 37/40\n",
      "1/1 - 0s - loss: 0.5556 - binary_accuracy: 0.8195 - val_loss: 0.5363 - val_binary_accuracy: 0.8246\n",
      "Epoch 38/40\n",
      "1/1 - 0s - loss: 0.5669 - binary_accuracy: 0.8084 - val_loss: 0.5372 - val_binary_accuracy: 0.8247\n",
      "Epoch 39/40\n",
      "1/1 - 0s - loss: 0.5675 - binary_accuracy: 0.8164 - val_loss: 0.5348 - val_binary_accuracy: 0.8237\n",
      "Epoch 40/40\n",
      "1/1 - 0s - loss: 0.5545 - binary_accuracy: 0.8179 - val_loss: 0.5260 - val_binary_accuracy: 0.8228\n"
     ]
    }
   ],
   "source": [
    "history = model.fit(\n",
    "    train_flow, epochs=epochs, validation_data=test_flow, verbose=2, shuffle=False\n",
    ")"
   ]
  },
  {
   "cell_type": "markdown",
   "metadata": {},
   "source": [
    "Plot the training history:"
   ]
  },
  {
   "cell_type": "code",
   "execution_count": 18,
   "metadata": {},
   "outputs": [
    {
     "data": {
      "image/png": "[encoded data removed]",
      "text/plain": [
       "<Figure size 504x576 with 2 Axes>"
      ]
     },
     "metadata": {
      "needs_background": "light"
     },
     "output_type": "display_data"
    }
   ],
   "source": [
    "sg.utils.plot_history(history)"
   ]
  },
  {
   "cell_type": "markdown",
   "metadata": {},
   "source": [
    "Evaluate the trained model on test citation links:"
   ]
  },
  {
   "cell_type": "code",
   "execution_count": 19,
   "metadata": {},
   "outputs": [
    {
     "name": "stdout",
     "output_type": "stream",
     "text": [
      "1/1 [==============================] - 0s 2ms/step - loss: 0.5333 - binary_accuracy: 0.8219\n",
      "1/1 [==============================] - 0s 5ms/step - loss: 0.5260 - binary_accuracy: 0.8228\n",
      "\n",
      "Train Set Metrics of the trained model:\n",
      "\tloss: 0.5333\n",
      "\tbinary_accuracy: 0.8219\n",
      "\n",
      "Test Set Metrics of the trained model:\n",
      "\tloss: 0.5260\n",
      "\tbinary_accuracy: 0.8228\n"
     ]
    }
   ],
   "source": [
    "train_metrics = model.evaluate(train_flow)\n",
    "test_metrics = model.evaluate(test_flow)\n",
    "\n",
    "print(\"\\nTrain Set Metrics of the trained model:\")\n",
    "for name, val in zip(model.metrics_names, train_metrics):\n",
    "    print(\"\\t{}: {:0.4f}\".format(name, val))\n",
    "\n",
    "print(\"\\nTest Set Metrics of the trained model:\")\n",
    "for name, val in zip(model.metrics_names, test_metrics):\n",
    "    print(\"\\t{}: {:0.4f}\".format(name, val))"
   ]
  },
  {
   "cell_type": "code",
   "execution_count": null,
   "metadata": {},
   "outputs": [],
   "source": []
  }
 ],
 "metadata": {
  "file_extension": ".py",
  "kernelspec": {
   "display_name": "Python 3",
   "language": "python",
   "name": "python3"
  },
  "language_info": {
   "codemirror_mode": {
    "name": "ipython",
    "version": 3
   },
   "file_extension": ".py",
   "mimetype": "text/x-python",
   "name": "python",
   "nbconvert_exporter": "python",
   "pygments_lexer": "ipython3",
   "version": "3.7.7"
  },
  "mimetype": "text/x-python",
  "name": "python",
  "npconvert_exporter": "python",
  "pygments_lexer": "ipython3",
  "version": 3
 },
 "nbformat": 4,
 "nbformat_minor": 4
}
