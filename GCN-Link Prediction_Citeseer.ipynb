{
 "cells": [
  {
   "cell_type": "code",
   "execution_count": 1,
   "metadata": {
    "tags": [
     "CloudRunner"
    ]
   },
   "outputs": [],
   "source": [
    "# install StellarGraph if running on Google Colab\n",
    "import sys\n",
    "if 'google.colab' in sys.modules:\n",
    "  %pip install -q stellargraph[demos]==1.2.1"
   ]
  },
  {
   "cell_type": "code",
   "execution_count": 2,
   "metadata": {
    "tags": [
     "VersionCheck"
    ]
   },
   "outputs": [],
   "source": [
    "# verify that we're using the correct version of StellarGraph for this notebook\n",
    "import stellargraph as sg\n",
    "\n",
    "try:\n",
    "    sg.utils.validate_notebook_version(\"1.2.1\")\n",
    "except AttributeError:\n",
    "    raise ValueError(\n",
    "        f\"This notebook requires StellarGraph version 1.2.1, but a different version {sg.__version__} is installed.  Please see <https://github.com/stellargraph/stellargraph/issues/1172>.\"\n",
    "    ) from None"
   ]
  },
  {
   "cell_type": "code",
   "execution_count": 3,
   "metadata": {},
   "outputs": [],
   "source": [
    "import stellargraph as sg\n",
    "from stellargraph.data import EdgeSplitter\n",
    "from stellargraph.mapper import FullBatchLinkGenerator\n",
    "from stellargraph.layer import GCN, LinkEmbedding\n",
    "\n",
    "\n",
    "from tensorflow import keras\n",
    "from sklearn import preprocessing, feature_extraction, model_selection\n",
    "import tensorflow as tf\n",
    "import numpy as np\n",
    "\n",
    "from stellargraph import globalvar\n",
    "from stellargraph import datasets\n",
    "from IPython.display import display, HTML\n",
    "%matplotlib inline"
   ]
  },
  {
   "cell_type": "code",
   "execution_count": 4,
   "metadata": {},
   "outputs": [
    {
     "data": {
      "text/html": [
       "The CiteSeer dataset consists of 3312 scientific publications classified into one of six classes. The citation network consists of 4732 links, although 17 of these have a source or target publication that isn't in the dataset and only 4715 are included in the graph. Each publication in the dataset is described by a 0/1-valued word vector indicating the absence/presence of the corresponding word from the dictionary. The dictionary consists of 3703 unique words."
      ],
      "text/plain": [
       "<IPython.core.display.HTML object>"
      ]
     },
     "metadata": {},
     "output_type": "display_data"
    }
   ],
   "source": [
    "dataset = datasets.CiteSeer()\n",
    "display(HTML(dataset.description))\n",
    "G, _ = dataset.load()"
   ]
  },
  {
   "cell_type": "code",
   "execution_count": 5,
   "metadata": {},
   "outputs": [
    {
     "name": "stdout",
     "output_type": "stream",
     "text": [
      "StellarGraph: Undirected multigraph\n",
      " Nodes: 3312, Edges: 4715\n",
      "\n",
      " Node types:\n",
      "  paper: [3312]\n",
      "    Features: float32 vector, length 3703\n",
      "    Edge types: paper-cites->paper\n",
      "\n",
      " Edge types:\n",
      "    paper-cites->paper: [4715]\n",
      "        Weights: all 1 (default)\n"
     ]
    }
   ],
   "source": [
    "print(G.info())"
   ]
  },
  {
   "cell_type": "code",
   "execution_count": 6,
   "metadata": {},
   "outputs": [
    {
     "name": "stdout",
     "output_type": "stream",
     "text": [
      "** Sampled 471 positive and 471 negative edges. **\n"
     ]
    }
   ],
   "source": [
    "# Define an edge splitter on the original graph G:\n",
    "edge_splitter_test = EdgeSplitter(G)\n",
    "\n",
    "# Randomly sample a fraction p=0.1 of all positive links, and same number of negative links, from G, and obtain the\n",
    "# reduced graph G_test with the sampled links removed:\n",
    "G_test, edge_ids_test, edge_labels_test = edge_splitter_test.train_test_split(\n",
    "    p=0.1, method=\"global\", keep_connected=True\n",
    ")"
   ]
  },
  {
   "cell_type": "code",
   "execution_count": 7,
   "metadata": {},
   "outputs": [
    {
     "name": "stdout",
     "output_type": "stream",
     "text": [
      "** Sampled 424 positive and 424 negative edges. **\n"
     ]
    }
   ],
   "source": [
    "# Define an edge splitter on the reduced graph G_test:\n",
    "edge_splitter_train = EdgeSplitter(G_test)\n",
    "\n",
    "# Randomly sample a fraction p=0.1 of all positive links, and same number of negative links, from G_test, and obtain the\n",
    "# reduced graph G_train with the sampled links removed:\n",
    "G_train, edge_ids_train, edge_labels_train = edge_splitter_train.train_test_split(\n",
    "    p=0.1, method=\"global\", keep_connected=True\n",
    ")"
   ]
  },
  {
   "cell_type": "code",
   "execution_count": 8,
   "metadata": {},
   "outputs": [],
   "source": [
    "epochs = 40"
   ]
  },
  {
   "cell_type": "code",
   "execution_count": 9,
   "metadata": {},
   "outputs": [
    {
     "name": "stdout",
     "output_type": "stream",
     "text": [
      "Using GCN (local pooling) filters...\n"
     ]
    }
   ],
   "source": [
    "train_gen = FullBatchLinkGenerator(G_train, method=\"gcn\")\n",
    "train_flow = train_gen.flow(edge_ids_train, edge_labels_train)"
   ]
  },
  {
   "cell_type": "code",
   "execution_count": 10,
   "metadata": {},
   "outputs": [
    {
     "name": "stdout",
     "output_type": "stream",
     "text": [
      "Using GCN (local pooling) filters...\n"
     ]
    }
   ],
   "source": [
    "test_gen = FullBatchLinkGenerator(G_test, method=\"gcn\")\n",
    "test_flow = train_gen.flow(edge_ids_test, edge_labels_test)"
   ]
  },
  {
   "cell_type": "code",
   "execution_count": 11,
   "metadata": {},
   "outputs": [],
   "source": [
    "gcn = GCN(\n",
    "    layer_sizes=[16, 16], activations=[\"relu\", \"relu\"], generator=train_gen, dropout=0.3\n",
    ")"
   ]
  },
  {
   "cell_type": "code",
   "execution_count": 12,
   "metadata": {},
   "outputs": [],
   "source": [
    "x_inp, x_out = gcn.in_out_tensors()"
   ]
  },
  {
   "cell_type": "code",
   "execution_count": 13,
   "metadata": {},
   "outputs": [],
   "source": [
    "prediction = LinkEmbedding(activation=\"relu\", method=\"ip\")(x_out)"
   ]
  },
  {
   "cell_type": "code",
   "execution_count": 14,
   "metadata": {},
   "outputs": [],
   "source": [
    "prediction = keras.layers.Reshape((-1,))(prediction)"
   ]
  },
  {
   "cell_type": "code",
   "execution_count": 15,
   "metadata": {},
   "outputs": [],
   "source": [
    "model = keras.Model(inputs=x_inp, outputs=prediction)\n",
    "\n",
    "model.compile(\n",
    "    optimizer=keras.optimizers.Adam(lr=0.01),\n",
    "    loss=keras.losses.binary_crossentropy,\n",
    "    metrics=[\"binary_accuracy\"],\n",
    ")"
   ]
  },
  {
   "cell_type": "code",
   "execution_count": 16,
   "metadata": {},
   "outputs": [
    {
     "name": "stdout",
     "output_type": "stream",
     "text": [
      "1/1 [==============================] - 0s 2ms/step - loss: 1.8784 - binary_accuracy: 0.5000\n",
      "1/1 [==============================] - 0s 3ms/step - loss: 1.9132 - binary_accuracy: 0.5000\n",
      "\n",
      "Train Set Metrics of the initial (untrained) model:\n",
      "\tloss: 1.8784\n",
      "\tbinary_accuracy: 0.5000\n",
      "\n",
      "Test Set Metrics of the initial (untrained) model:\n",
      "\tloss: 1.9132\n",
      "\tbinary_accuracy: 0.5000\n"
     ]
    }
   ],
   "source": [
    "init_train_metrics = model.evaluate(train_flow)\n",
    "init_test_metrics = model.evaluate(test_flow)\n",
    "\n",
    "print(\"\\nTrain Set Metrics of the initial (untrained) model:\")\n",
    "for name, val in zip(model.metrics_names, init_train_metrics):\n",
    "    print(\"\\t{}: {:0.4f}\".format(name, val))\n",
    "\n",
    "print(\"\\nTest Set Metrics of the initial (untrained) model:\")\n",
    "for name, val in zip(model.metrics_names, init_test_metrics):\n",
    "    print(\"\\t{}: {:0.4f}\".format(name, val))"
   ]
  },
  {
   "cell_type": "code",
   "execution_count": 17,
   "metadata": {},
   "outputs": [
    {
     "name": "stdout",
     "output_type": "stream",
     "text": [
      "Epoch 1/40\n",
      "1/1 - 0s - loss: 1.7267 - binary_accuracy: 0.5012 - val_loss: 7.1590 - val_binary_accuracy: 0.5011\n",
      "Epoch 2/40\n",
      "1/1 - 0s - loss: 6.7182 - binary_accuracy: 0.5012 - val_loss: 7.4773 - val_binary_accuracy: 0.5000\n",
      "Epoch 3/40\n",
      "1/1 - 0s - loss: 7.2777 - binary_accuracy: 0.4988 - val_loss: 7.2668 - val_binary_accuracy: 0.5000\n",
      "Epoch 4/40\n",
      "1/1 - 0s - loss: 6.7225 - binary_accuracy: 0.5071 - val_loss: 5.0698 - val_binary_accuracy: 0.5265\n",
      "Epoch 5/40\n",
      "1/1 - 0s - loss: 4.6759 - binary_accuracy: 0.5601 - val_loss: 1.0353 - val_binary_accuracy: 0.6964\n",
      "Epoch 6/40\n",
      "1/1 - 0s - loss: 1.0444 - binary_accuracy: 0.7771 - val_loss: 0.5898 - val_binary_accuracy: 0.7113\n",
      "Epoch 7/40\n",
      "1/1 - 0s - loss: 0.4307 - binary_accuracy: 0.7771 - val_loss: 0.8293 - val_binary_accuracy: 0.5902\n",
      "Epoch 8/40\n",
      "1/1 - 0s - loss: 0.6732 - binary_accuracy: 0.6439 - val_loss: 0.8740 - val_binary_accuracy: 0.5796\n",
      "Epoch 9/40\n",
      "1/1 - 0s - loss: 0.7674 - binary_accuracy: 0.5861 - val_loss: 0.7560 - val_binary_accuracy: 0.6125\n",
      "Epoch 10/40\n",
      "1/1 - 0s - loss: 0.6812 - binary_accuracy: 0.6568 - val_loss: 0.6622 - val_binary_accuracy: 0.6762\n",
      "Epoch 11/40\n",
      "1/1 - 0s - loss: 0.5795 - binary_accuracy: 0.7182 - val_loss: 0.7565 - val_binary_accuracy: 0.7038\n",
      "Epoch 12/40\n",
      "1/1 - 0s - loss: 0.6886 - binary_accuracy: 0.7571 - val_loss: 0.8259 - val_binary_accuracy: 0.7070\n",
      "Epoch 13/40\n",
      "1/1 - 0s - loss: 0.6370 - binary_accuracy: 0.7795 - val_loss: 0.8349 - val_binary_accuracy: 0.7240\n",
      "Epoch 14/40\n",
      "1/1 - 0s - loss: 0.5499 - binary_accuracy: 0.8078 - val_loss: 0.7635 - val_binary_accuracy: 0.7707\n",
      "Epoch 15/40\n",
      "1/1 - 0s - loss: 0.4260 - binary_accuracy: 0.8514 - val_loss: 0.7259 - val_binary_accuracy: 0.7622\n",
      "Epoch 16/40\n",
      "1/1 - 0s - loss: 0.3816 - binary_accuracy: 0.8726 - val_loss: 0.7214 - val_binary_accuracy: 0.7696\n",
      "Epoch 17/40\n",
      "1/1 - 0s - loss: 0.3536 - binary_accuracy: 0.8703 - val_loss: 0.7034 - val_binary_accuracy: 0.7696\n",
      "Epoch 18/40\n",
      "1/1 - 0s - loss: 0.3125 - binary_accuracy: 0.8880 - val_loss: 0.6736 - val_binary_accuracy: 0.7675\n",
      "Epoch 19/40\n",
      "1/1 - 0s - loss: 0.3108 - binary_accuracy: 0.8774 - val_loss: 0.6693 - val_binary_accuracy: 0.7643\n",
      "Epoch 20/40\n",
      "1/1 - 0s - loss: 0.2951 - binary_accuracy: 0.8856 - val_loss: 0.6627 - val_binary_accuracy: 0.7569\n",
      "Epoch 21/40\n",
      "1/1 - 0s - loss: 0.2643 - binary_accuracy: 0.8774 - val_loss: 0.6770 - val_binary_accuracy: 0.7580\n",
      "Epoch 22/40\n",
      "1/1 - 0s - loss: 0.3133 - binary_accuracy: 0.8950 - val_loss: 0.6984 - val_binary_accuracy: 0.7643\n",
      "Epoch 23/40\n",
      "1/1 - 0s - loss: 0.2625 - binary_accuracy: 0.8903 - val_loss: 0.7048 - val_binary_accuracy: 0.7696\n",
      "Epoch 24/40\n",
      "1/1 - 0s - loss: 0.2486 - binary_accuracy: 0.9163 - val_loss: 0.7083 - val_binary_accuracy: 0.7771\n",
      "Epoch 25/40\n",
      "1/1 - 0s - loss: 0.2342 - binary_accuracy: 0.9127 - val_loss: 0.7020 - val_binary_accuracy: 0.7813\n",
      "Epoch 26/40\n",
      "1/1 - 0s - loss: 0.2380 - binary_accuracy: 0.9410 - val_loss: 0.7010 - val_binary_accuracy: 0.7887\n",
      "Epoch 27/40\n",
      "1/1 - 0s - loss: 0.1949 - binary_accuracy: 0.9316 - val_loss: 0.7617 - val_binary_accuracy: 0.7994\n",
      "Epoch 28/40\n",
      "1/1 - 0s - loss: 0.2030 - binary_accuracy: 0.9387 - val_loss: 0.7924 - val_binary_accuracy: 0.8036\n",
      "Epoch 29/40\n",
      "1/1 - 0s - loss: 0.1634 - binary_accuracy: 0.9434 - val_loss: 0.8450 - val_binary_accuracy: 0.8036\n",
      "Epoch 30/40\n",
      "1/1 - 0s - loss: 0.1765 - binary_accuracy: 0.9458 - val_loss: 0.8805 - val_binary_accuracy: 0.8015\n",
      "Epoch 31/40\n",
      "1/1 - 0s - loss: 0.1795 - binary_accuracy: 0.9528 - val_loss: 0.8913 - val_binary_accuracy: 0.7994\n",
      "Epoch 32/40\n",
      "1/1 - 0s - loss: 0.1532 - binary_accuracy: 0.9575 - val_loss: 0.8839 - val_binary_accuracy: 0.7994\n",
      "Epoch 33/40\n",
      "1/1 - 0s - loss: 0.1595 - binary_accuracy: 0.9540 - val_loss: 0.8663 - val_binary_accuracy: 0.8015\n",
      "Epoch 34/40\n",
      "1/1 - 0s - loss: 0.1608 - binary_accuracy: 0.9552 - val_loss: 0.8623 - val_binary_accuracy: 0.8025\n",
      "Epoch 35/40\n",
      "1/1 - 0s - loss: 0.1731 - binary_accuracy: 0.9634 - val_loss: 0.8606 - val_binary_accuracy: 0.8047\n",
      "Epoch 36/40\n",
      "1/1 - 0s - loss: 0.1337 - binary_accuracy: 0.9729 - val_loss: 0.8495 - val_binary_accuracy: 0.8089\n",
      "Epoch 37/40\n",
      "1/1 - 0s - loss: 0.1228 - binary_accuracy: 0.9611 - val_loss: 0.8214 - val_binary_accuracy: 0.8100\n",
      "Epoch 38/40\n",
      "1/1 - 0s - loss: 0.1580 - binary_accuracy: 0.9623 - val_loss: 0.7987 - val_binary_accuracy: 0.8089\n",
      "Epoch 39/40\n",
      "1/1 - 0s - loss: 0.1236 - binary_accuracy: 0.9658 - val_loss: 0.8017 - val_binary_accuracy: 0.8057\n",
      "Epoch 40/40\n",
      "1/1 - 0s - loss: 0.1035 - binary_accuracy: 0.9658 - val_loss: 0.7873 - val_binary_accuracy: 0.8068\n"
     ]
    }
   ],
   "source": [
    "history = model.fit(\n",
    "    train_flow, epochs=epochs, validation_data=test_flow, verbose=2, shuffle=False\n",
    ")"
   ]
  },
  {
   "cell_type": "markdown",
   "metadata": {},
   "source": [
    "Plot the training history:"
   ]
  },
  {
   "cell_type": "code",
   "execution_count": 18,
   "metadata": {},
   "outputs": [
    {
     "data": {
      "image/png": "[encoded data removed]",
      "text/plain": [
       "<Figure size 504x576 with 2 Axes>"
      ]
     },
     "metadata": {
      "needs_background": "light"
     },
     "output_type": "display_data"
    }
   ],
   "source": [
    "sg.utils.plot_history(history)"
   ]
  },
  {
   "cell_type": "markdown",
   "metadata": {},
   "source": [
    "Evaluate the trained model on test citation links:"
   ]
  },
  {
   "cell_type": "code",
   "execution_count": 19,
   "metadata": {},
   "outputs": [
    {
     "name": "stdout",
     "output_type": "stream",
     "text": [
      "1/1 [==============================] - 0s 1ms/step - loss: 0.0679 - binary_accuracy: 0.9894\n",
      "1/1 [==============================] - 0s 2ms/step - loss: 0.7873 - binary_accuracy: 0.8068\n",
      "\n",
      "Train Set Metrics of the trained model:\n",
      "\tloss: 0.0679\n",
      "\tbinary_accuracy: 0.9894\n",
      "\n",
      "Test Set Metrics of the trained model:\n",
      "\tloss: 0.7873\n",
      "\tbinary_accuracy: 0.8068\n"
     ]
    }
   ],
   "source": [
    "train_metrics = model.evaluate(train_flow)\n",
    "test_metrics = model.evaluate(test_flow)\n",
    "\n",
    "print(\"\\nTrain Set Metrics of the trained model:\")\n",
    "for name, val in zip(model.metrics_names, train_metrics):\n",
    "    print(\"\\t{}: {:0.4f}\".format(name, val))\n",
    "\n",
    "print(\"\\nTest Set Metrics of the trained model:\")\n",
    "for name, val in zip(model.metrics_names, test_metrics):\n",
    "    print(\"\\t{}: {:0.4f}\".format(name, val))"
   ]
  },
  {
   "cell_type": "code",
   "execution_count": null,
   "metadata": {},
   "outputs": [],
   "source": []
  }
 ],
 "metadata": {
  "file_extension": ".py",
  "kernelspec": {
   "display_name": "Python 3",
   "language": "python",
   "name": "python3"
  },
  "language_info": {
   "codemirror_mode": {
    "name": "ipython",
    "version": 3
   },
   "file_extension": ".py",
   "mimetype": "text/x-python",
   "name": "python",
   "nbconvert_exporter": "python",
   "pygments_lexer": "ipython3",
   "version": "3.7.7"
  },
  "mimetype": "text/x-python",
  "name": "python",
  "npconvert_exporter": "python",
  "pygments_lexer": "ipython3",
  "version": 3
 },
 "nbformat": 4,
 "nbformat_minor": 4
}
