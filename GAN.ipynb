{
 "cells": [
  {
   "cell_type": "code",
   "execution_count": 1,
   "metadata": {},
   "outputs": [
    {
     "name": "stderr",
     "output_type": "stream",
     "text": [
      "Using TensorFlow backend.\n"
     ]
    }
   ],
   "source": [
    "import keras\n",
    "from keras.models import Sequential\n",
    "from keras.layers import Dense, Activation\n",
    "from keras.layers.normalization import BatchNormalization\n",
    "from keras.layers.advanced_activations import LeakyReLU\n",
    "from keras.optimizers import SGD\n",
    "from keras.datasets import mnist\n",
    "\n",
    "from tqdm import tqdm\n",
    "import numpy as np\n",
    "import random\n",
    "\n",
    "%matplotlib inline\n",
    "import matplotlib.pyplot as plt"
   ]
  },
  {
   "cell_type": "code",
   "execution_count": 2,
   "metadata": {
    "collapsed": true
   },
   "outputs": [],
   "source": [
    "def Generator():\n",
    "    \n",
    "    model = Sequential()\n",
    "    model.add(Dense(128, input_dim=100))\n",
    "    model.add(BatchNormalization())\n",
    "    model.add(LeakyReLU(alpha=0.2))\n",
    "    model.add(Dense(28*28))\n",
    "    model.add(BatchNormalization())\n",
    "    model.add(Activation('sigmoid'))\n",
    "    \n",
    "    return model"
   ]
  },
  {
   "cell_type": "code",
   "execution_count": 3,
   "metadata": {
    "collapsed": true
   },
   "outputs": [],
   "source": [
    "def Discriminator():\n",
    "        \n",
    "    model = Sequential()\n",
    "    model.add(Dense(512, input_dim=784))\n",
    "    model.add(LeakyReLU(alpha=0.2))\n",
    "    model.add(Dense(128))\n",
    "    model.add(LeakyReLU(alpha=0.2))\n",
    "    model.add(Dense(units=1))\n",
    "    model.add(Activation('sigmoid'))\n",
    "    \n",
    "    optimizer = SGD(lr=0.1, momentum=0.3, decay=1e-5)\n",
    "    model.compile(loss='binary_crossentropy', optimizer=optimizer)\n",
    "    \n",
    "    return model"
   ]
  },
  {
   "cell_type": "code",
   "execution_count": 4,
   "metadata": {
    "collapsed": true
   },
   "outputs": [],
   "source": [
    "def GAN(generator, discriminator):\n",
    "\n",
    "    discriminator.trainable = False\n",
    "\n",
    "    model = Sequential()\n",
    "    \n",
    "    model.add(generator)\n",
    "    model.add(discriminator)\n",
    "    \n",
    "    optimizer = SGD(lr=0.1, momentum=0.3, decay=1e-5)\n",
    "    model.compile(loss='binary_crossentropy', optimizer=optimizer)\n",
    "    \n",
    "    return model"
   ]
  },
  {
   "cell_type": "code",
   "execution_count": 5,
   "metadata": {},
   "outputs": [
    {
     "name": "stdout",
     "output_type": "stream",
     "text": [
      "X_train shape (60000, 784)\n",
      "60000 train samples\n",
      "10000 test samples\n"
     ]
    }
   ],
   "source": [
    "(X_train, y_train), (X_test, y_test) = mnist.load_data()\n",
    "\n",
    "X_train = X_train.reshape(X_train.shape[0], 28*28)\n",
    "X_test = X_test.reshape(X_test.shape[0], 28*28)\n",
    "X_train.astype('float32')\n",
    "X_test.astype('float32')\n",
    "X_train = X_train / 255\n",
    "X_test = X_test / 255\n",
    "\n",
    "print('X_train shape', X_train.shape)\n",
    "print(X_train.shape[0], 'train samples')\n",
    "print(X_test.shape[0], 'test samples')"
   ]
  },
  {
   "cell_type": "code",
   "execution_count": 6,
   "metadata": {
    "scrolled": false
   },
   "outputs": [
    {
     "name": "stderr",
     "output_type": "stream",
     "text": [
      "100%|████████████████████████████████████████████████████████████████████████████████████████████████████████████████████| 56250/56250 [17:05<00:00, 54.87it/s]\n"
     ]
    }
   ],
   "source": [
    "generator = Generator()\n",
    "discriminator = Discriminator()\n",
    "gan = GAN(generator, discriminator)\n",
    "\n",
    "epochs = 30\n",
    "batch_size = 32\n",
    "input_size = 100\n",
    "\n",
    "num_batches = int(X_train.shape[0] / batch_size)\n",
    "\n",
    "pbar = tqdm(total=epochs * num_batches)\n",
    "\n",
    "gan_loss = []\n",
    "discriminator_loss = []\n",
    "\n",
    "for epoch in range(epochs):\n",
    "    \n",
    "    for index in range(num_batches):\n",
    "\n",
    "        pbar.update(1)\n",
    "\n",
    "        # Generative data\n",
    "        noise = np.random.uniform(0, 1, size=[batch_size, input_size])\n",
    "        generated_data = generator.predict_on_batch(noise)\n",
    "\n",
    "        # Training data chosen from Mnist samples\n",
    "        training_data = X_train[index * batch_size: (index + 1) * batch_size]\n",
    "\n",
    "        X = np.vstack((generated_data, training_data))\n",
    "        y = np.zeros(2 * batch_size)\n",
    "        y[:batch_size] = 1\n",
    "\n",
    "        # Train discriminator\n",
    "        d_loss = discriminator.train_on_batch(x=X, y=y)\n",
    "\n",
    "        # Train generator (Seemingly train GAN but the discriminator in the model is disabled to train.)\n",
    "        noise = np.random.uniform(0, 1, size=[batch_size, input_size])\n",
    "        y = np.zeros(batch_size)\n",
    "        g_loss = gan.train_on_batch(x=noise, y=y)\n",
    "\n",
    "        discriminator_loss.append(d_loss)\n",
    "        gan_loss.append(g_loss)\n",
    "\n",
    "    # Plot losses\n",
    "    fig = plt.figure(figsize=(10, 5))        \n",
    "    fig.suptitle('epoch: ' + str(epoch + 1))\n",
    "    plt.plot(discriminator_loss, label=\"discriminator's loss\", color='b')\n",
    "    plt.plot(gan_loss, label=\"generator's loss\", color='r')\n",
    "    plt.xlim([0, epochs * num_batches])\n",
    "    plt.legend()\n",
    "    plt.savefig('./gan-loss/' + str(epoch + 1) + '.png')\n",
    "    plt.close()        \n",
    "\n",
    "    # Visualize generated data\n",
    "    generated_images = generator.predict(noise)\n",
    "\n",
    "    fig = plt.figure(figsize=(9, 9))        \n",
    "    for i in range(9):\n",
    "        plt.subplot(3, 3, i+1)\n",
    "        img = generated_images[i, :]\n",
    "        img = img.reshape((28, 28))\n",
    "        plt.tight_layout()\n",
    "        plt.imshow(img, cmap='gray')\n",
    "        plt.axis('off')\n",
    "    plt.savefig('./gan-images/' + str(epoch + 1) + '.png')\n",
    "    plt.close()     \n",
    "        \n",
    "pbar.close()"
   ]
  },
  {
   "cell_type": "code",
   "execution_count": null,
   "metadata": {
    "collapsed": true
   },
   "outputs": [],
   "source": []
  }
 ],
 "metadata": {
  "kernelspec": {
   "display_name": "Python 3",
   "language": "python",
   "name": "python3"
  },
  "language_info": {
   "codemirror_mode": {
    "name": "ipython",
    "version": 3
   },
   "file_extension": ".py",
   "mimetype": "text/x-python",
   "name": "python",
   "nbconvert_exporter": "python",
   "pygments_lexer": "ipython3",
   "version": "3.5.3"
  }
 },
 "nbformat": 4,
 "nbformat_minor": 2
}
