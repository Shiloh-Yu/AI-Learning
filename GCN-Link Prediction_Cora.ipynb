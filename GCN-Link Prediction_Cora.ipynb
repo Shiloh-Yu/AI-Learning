{
 "cells": [
  {
   "cell_type": "code",
   "execution_count": 1,
   "metadata": {
    "tags": [
     "CloudRunner"
    ]
   },
   "outputs": [],
   "source": [
    "# install StellarGraph if running on Google Colab\n",
    "import sys\n",
    "if 'google.colab' in sys.modules:\n",
    "  %pip install -q stellargraph[demos]==1.2.1"
   ]
  },
  {
   "cell_type": "code",
   "execution_count": 2,
   "metadata": {
    "tags": [
     "VersionCheck"
    ]
   },
   "outputs": [],
   "source": [
    "# verify that we're using the correct version of StellarGraph for this notebook\n",
    "import stellargraph as sg\n",
    "\n",
    "try:\n",
    "    sg.utils.validate_notebook_version(\"1.2.1\")\n",
    "except AttributeError:\n",
    "    raise ValueError(\n",
    "        f\"This notebook requires StellarGraph version 1.2.1, but a different version {sg.__version__} is installed.  Please see <https://github.com/stellargraph/stellargraph/issues/1172>.\"\n",
    "    ) from None"
   ]
  },
  {
   "cell_type": "code",
   "execution_count": 3,
   "metadata": {},
   "outputs": [],
   "source": [
    "import stellargraph as sg\n",
    "from stellargraph.data import EdgeSplitter\n",
    "from stellargraph.mapper import FullBatchLinkGenerator\n",
    "from stellargraph.layer import GCN, LinkEmbedding\n",
    "\n",
    "\n",
    "from tensorflow import keras\n",
    "from sklearn import preprocessing, feature_extraction, model_selection\n",
    "import tensorflow as tf\n",
    "import numpy as np\n",
    "\n",
    "from stellargraph import globalvar\n",
    "from stellargraph import datasets\n",
    "from IPython.display import display, HTML\n",
    "%matplotlib inline"
   ]
  },
  {
   "cell_type": "code",
   "execution_count": 4,
   "metadata": {},
   "outputs": [
    {
     "data": {
      "text/html": [
       "The Cora dataset consists of 2708 scientific publications classified into one of seven classes. The citation network consists of 5429 links. Each publication in the dataset is described by a 0/1-valued word vector indicating the absence/presence of the corresponding word from the dictionary. The dictionary consists of 1433 unique words."
      ],
      "text/plain": [
       "<IPython.core.display.HTML object>"
      ]
     },
     "metadata": {},
     "output_type": "display_data"
    }
   ],
   "source": [
    "dataset = datasets.Cora()\n",
    "display(HTML(dataset.description))\n",
    "G, _ = dataset.load(subject_as_feature=True)"
   ]
  },
  {
   "cell_type": "code",
   "execution_count": 5,
   "metadata": {},
   "outputs": [
    {
     "name": "stdout",
     "output_type": "stream",
     "text": [
      "StellarGraph: Undirected multigraph\n",
      " Nodes: 2708, Edges: 5429\n",
      "\n",
      " Node types:\n",
      "  paper: [2708]\n",
      "    Features: float32 vector, length 1440\n",
      "    Edge types: paper-cites->paper\n",
      "\n",
      " Edge types:\n",
      "    paper-cites->paper: [5429]\n",
      "        Weights: all 1 (default)\n",
      "        Features: none\n"
     ]
    }
   ],
   "source": [
    "print(G.info())"
   ]
  },
  {
   "cell_type": "code",
   "execution_count": 6,
   "metadata": {},
   "outputs": [
    {
     "name": "stdout",
     "output_type": "stream",
     "text": [
      "** Sampled 542 positive and 542 negative edges. **\n"
     ]
    }
   ],
   "source": [
    "# Define an edge splitter on the original graph G:\n",
    "edge_splitter_test = EdgeSplitter(G)\n",
    "\n",
    "# Randomly sample a fraction p=0.1 of all positive links, and same number of negative links, from G, and obtain the\n",
    "# reduced graph G_test with the sampled links removed:\n",
    "G_test, edge_ids_test, edge_labels_test = edge_splitter_test.train_test_split(\n",
    "    p=0.1, method=\"global\", keep_connected=True\n",
    ")"
   ]
  },
  {
   "cell_type": "code",
   "execution_count": 7,
   "metadata": {},
   "outputs": [
    {
     "name": "stdout",
     "output_type": "stream",
     "text": [
      "** Sampled 488 positive and 488 negative edges. **\n"
     ]
    }
   ],
   "source": [
    "# Define an edge splitter on the reduced graph G_test:\n",
    "edge_splitter_train = EdgeSplitter(G_test)\n",
    "\n",
    "# Randomly sample a fraction p=0.1 of all positive links, and same number of negative links, from G_test, and obtain the\n",
    "# reduced graph G_train with the sampled links removed:\n",
    "G_train, edge_ids_train, edge_labels_train = edge_splitter_train.train_test_split(\n",
    "    p=0.1, method=\"global\", keep_connected=True\n",
    ")"
   ]
  },
  {
   "cell_type": "code",
   "execution_count": 8,
   "metadata": {},
   "outputs": [],
   "source": [
    "epochs = 50"
   ]
  },
  {
   "cell_type": "code",
   "execution_count": 9,
   "metadata": {},
   "outputs": [
    {
     "name": "stdout",
     "output_type": "stream",
     "text": [
      "Using GCN (local pooling) filters...\n"
     ]
    }
   ],
   "source": [
    "train_gen = FullBatchLinkGenerator(G_train, method=\"gcn\")\n",
    "train_flow = train_gen.flow(edge_ids_train, edge_labels_train)"
   ]
  },
  {
   "cell_type": "code",
   "execution_count": 10,
   "metadata": {},
   "outputs": [
    {
     "name": "stdout",
     "output_type": "stream",
     "text": [
      "Using GCN (local pooling) filters...\n"
     ]
    }
   ],
   "source": [
    "test_gen = FullBatchLinkGenerator(G_test, method=\"gcn\")\n",
    "test_flow = train_gen.flow(edge_ids_test, edge_labels_test)"
   ]
  },
  {
   "cell_type": "code",
   "execution_count": 11,
   "metadata": {},
   "outputs": [],
   "source": [
    "gcn = GCN(\n",
    "    layer_sizes=[16, 16], activations=[\"relu\", \"relu\"], generator=train_gen, dropout=0.3\n",
    ")"
   ]
  },
  {
   "cell_type": "code",
   "execution_count": 12,
   "metadata": {},
   "outputs": [],
   "source": [
    "x_inp, x_out = gcn.in_out_tensors()"
   ]
  },
  {
   "cell_type": "code",
   "execution_count": 13,
   "metadata": {},
   "outputs": [],
   "source": [
    "prediction = LinkEmbedding(activation=\"relu\", method=\"ip\")(x_out)"
   ]
  },
  {
   "cell_type": "code",
   "execution_count": 14,
   "metadata": {},
   "outputs": [],
   "source": [
    "prediction = keras.layers.Reshape((-1,))(prediction)"
   ]
  },
  {
   "cell_type": "code",
   "execution_count": 15,
   "metadata": {},
   "outputs": [],
   "source": [
    "model = keras.Model(inputs=x_inp, outputs=prediction)\n",
    "\n",
    "model.compile(\n",
    "    optimizer=keras.optimizers.Adam(lr=0.01),\n",
    "    loss=keras.losses.binary_crossentropy,\n",
    "    metrics=[\"binary_accuracy\"],\n",
    ")"
   ]
  },
  {
   "cell_type": "code",
   "execution_count": 16,
   "metadata": {},
   "outputs": [
    {
     "name": "stdout",
     "output_type": "stream",
     "text": [
      "1/1 [==============================] - 0s 2ms/step - loss: 2.5240 - binary_accuracy: 0.5000\n",
      "1/1 [==============================] - 0s 2ms/step - loss: 2.4948 - binary_accuracy: 0.5000\n",
      "\n",
      "Train Set Metrics of the initial (untrained) model:\n",
      "\tloss: 2.5240\n",
      "\tbinary_accuracy: 0.5000\n",
      "\n",
      "Test Set Metrics of the initial (untrained) model:\n",
      "\tloss: 2.4948\n",
      "\tbinary_accuracy: 0.5000\n"
     ]
    }
   ],
   "source": [
    "init_train_metrics = model.evaluate(train_flow)\n",
    "init_test_metrics = model.evaluate(test_flow)\n",
    "\n",
    "print(\"\\nTrain Set Metrics of the initial (untrained) model:\")\n",
    "for name, val in zip(model.metrics_names, init_train_metrics):\n",
    "    print(\"\\t{}: {:0.4f}\".format(name, val))\n",
    "\n",
    "print(\"\\nTest Set Metrics of the initial (untrained) model:\")\n",
    "for name, val in zip(model.metrics_names, init_test_metrics):\n",
    "    print(\"\\t{}: {:0.4f}\".format(name, val))"
   ]
  },
  {
   "cell_type": "code",
   "execution_count": 17,
   "metadata": {},
   "outputs": [
    {
     "name": "stdout",
     "output_type": "stream",
     "text": [
      "Epoch 1/50\n",
      "1/1 - 0s - loss: 2.4368 - binary_accuracy: 0.5000 - val_loss: 0.7496 - val_binary_accuracy: 0.5876\n",
      "Epoch 2/50\n",
      "1/1 - 0s - loss: 0.7531 - binary_accuracy: 0.5840 - val_loss: 4.3698 - val_binary_accuracy: 0.5120\n",
      "Epoch 3/50\n",
      "1/1 - 0s - loss: 4.5322 - binary_accuracy: 0.5143 - val_loss: 2.0183 - val_binary_accuracy: 0.5535\n",
      "Epoch 4/50\n",
      "1/1 - 0s - loss: 2.2521 - binary_accuracy: 0.5543 - val_loss: 0.6752 - val_binary_accuracy: 0.6522\n",
      "Epoch 5/50\n",
      "1/1 - 0s - loss: 0.7088 - binary_accuracy: 0.6424 - val_loss: 0.6842 - val_binary_accuracy: 0.5987\n",
      "Epoch 6/50\n",
      "1/1 - 0s - loss: 0.6628 - binary_accuracy: 0.6281 - val_loss: 0.7344 - val_binary_accuracy: 0.5664\n",
      "Epoch 7/50\n",
      "1/1 - 0s - loss: 0.7369 - binary_accuracy: 0.5830 - val_loss: 0.7163 - val_binary_accuracy: 0.5867\n",
      "Epoch 8/50\n",
      "1/1 - 0s - loss: 0.7296 - binary_accuracy: 0.5994 - val_loss: 0.6990 - val_binary_accuracy: 0.6273\n",
      "Epoch 9/50\n",
      "1/1 - 0s - loss: 0.7412 - binary_accuracy: 0.5891 - val_loss: 0.6888 - val_binary_accuracy: 0.6402\n",
      "Epoch 10/50\n",
      "1/1 - 0s - loss: 0.6814 - binary_accuracy: 0.6311 - val_loss: 0.7493 - val_binary_accuracy: 0.6476\n",
      "Epoch 11/50\n",
      "1/1 - 0s - loss: 0.8365 - binary_accuracy: 0.6199 - val_loss: 0.7536 - val_binary_accuracy: 0.6541\n",
      "Epoch 12/50\n",
      "1/1 - 0s - loss: 0.8687 - binary_accuracy: 0.6465 - val_loss: 0.6655 - val_binary_accuracy: 0.6900\n",
      "Epoch 13/50\n",
      "1/1 - 0s - loss: 0.7014 - binary_accuracy: 0.6527 - val_loss: 0.6319 - val_binary_accuracy: 0.6863\n",
      "Epoch 14/50\n",
      "1/1 - 0s - loss: 0.6318 - binary_accuracy: 0.6783 - val_loss: 0.6293 - val_binary_accuracy: 0.6707\n",
      "Epoch 15/50\n",
      "1/1 - 0s - loss: 0.6440 - binary_accuracy: 0.6701 - val_loss: 0.6390 - val_binary_accuracy: 0.6504\n",
      "Epoch 16/50\n",
      "1/1 - 0s - loss: 0.6149 - binary_accuracy: 0.6393 - val_loss: 0.6350 - val_binary_accuracy: 0.6458\n",
      "Epoch 17/50\n",
      "1/1 - 0s - loss: 0.5992 - binary_accuracy: 0.6732 - val_loss: 0.6292 - val_binary_accuracy: 0.6467\n",
      "Epoch 18/50\n",
      "1/1 - 0s - loss: 0.6113 - binary_accuracy: 0.6752 - val_loss: 0.6399 - val_binary_accuracy: 0.6725\n",
      "Epoch 19/50\n",
      "1/1 - 0s - loss: 0.6293 - binary_accuracy: 0.6619 - val_loss: 0.6353 - val_binary_accuracy: 0.6817\n",
      "Epoch 20/50\n",
      "1/1 - 0s - loss: 0.6018 - binary_accuracy: 0.6957 - val_loss: 0.6266 - val_binary_accuracy: 0.6910\n",
      "Epoch 21/50\n",
      "1/1 - 0s - loss: 0.5961 - binary_accuracy: 0.7080 - val_loss: 0.6330 - val_binary_accuracy: 0.6928\n",
      "Epoch 22/50\n",
      "1/1 - 0s - loss: 0.5681 - binary_accuracy: 0.6988 - val_loss: 0.6307 - val_binary_accuracy: 0.6845\n",
      "Epoch 23/50\n",
      "1/1 - 0s - loss: 0.5714 - binary_accuracy: 0.7244 - val_loss: 0.6270 - val_binary_accuracy: 0.6854\n",
      "Epoch 24/50\n",
      "1/1 - 0s - loss: 0.6045 - binary_accuracy: 0.7070 - val_loss: 0.6219 - val_binary_accuracy: 0.6891\n",
      "Epoch 25/50\n",
      "1/1 - 0s - loss: 0.5346 - binary_accuracy: 0.7234 - val_loss: 0.6211 - val_binary_accuracy: 0.6983\n",
      "Epoch 26/50\n",
      "1/1 - 0s - loss: 0.5299 - binary_accuracy: 0.7541 - val_loss: 0.6001 - val_binary_accuracy: 0.6974\n",
      "Epoch 27/50\n",
      "1/1 - 0s - loss: 0.5491 - binary_accuracy: 0.7357 - val_loss: 0.6004 - val_binary_accuracy: 0.6974\n",
      "Epoch 28/50\n",
      "1/1 - 0s - loss: 0.5009 - binary_accuracy: 0.7572 - val_loss: 0.5991 - val_binary_accuracy: 0.7020\n",
      "Epoch 29/50\n",
      "1/1 - 0s - loss: 0.5100 - binary_accuracy: 0.7510 - val_loss: 0.5960 - val_binary_accuracy: 0.7030\n",
      "Epoch 30/50\n",
      "1/1 - 0s - loss: 0.4915 - binary_accuracy: 0.7520 - val_loss: 0.5932 - val_binary_accuracy: 0.7076\n",
      "Epoch 31/50\n",
      "1/1 - 0s - loss: 0.5075 - binary_accuracy: 0.7684 - val_loss: 0.6102 - val_binary_accuracy: 0.7011\n",
      "Epoch 32/50\n",
      "1/1 - 0s - loss: 0.4603 - binary_accuracy: 0.8012 - val_loss: 0.6200 - val_binary_accuracy: 0.7020\n",
      "Epoch 33/50\n",
      "1/1 - 0s - loss: 0.4882 - binary_accuracy: 0.7869 - val_loss: 0.6395 - val_binary_accuracy: 0.7011\n",
      "Epoch 34/50\n",
      "1/1 - 0s - loss: 0.4971 - binary_accuracy: 0.8023 - val_loss: 0.6009 - val_binary_accuracy: 0.6993\n",
      "Epoch 35/50\n",
      "1/1 - 0s - loss: 0.4885 - binary_accuracy: 0.7920 - val_loss: 0.7355 - val_binary_accuracy: 0.6753\n",
      "Epoch 36/50\n",
      "1/1 - 0s - loss: 0.5464 - binary_accuracy: 0.7203 - val_loss: 0.8454 - val_binary_accuracy: 0.6670\n",
      "Epoch 37/50\n",
      "1/1 - 0s - loss: 0.6802 - binary_accuracy: 0.7121 - val_loss: 0.9047 - val_binary_accuracy: 0.6393\n",
      "Epoch 38/50\n",
      "1/1 - 0s - loss: 0.8393 - binary_accuracy: 0.6906 - val_loss: 0.8992 - val_binary_accuracy: 0.6310\n",
      "Epoch 39/50\n",
      "1/1 - 0s - loss: 0.8057 - binary_accuracy: 0.6855 - val_loss: 0.8554 - val_binary_accuracy: 0.6301\n",
      "Epoch 40/50\n",
      "1/1 - 0s - loss: 0.6852 - binary_accuracy: 0.6773 - val_loss: 0.8002 - val_binary_accuracy: 0.6338\n",
      "Epoch 41/50\n",
      "1/1 - 0s - loss: 0.6261 - binary_accuracy: 0.6957 - val_loss: 0.8024 - val_binary_accuracy: 0.6282\n",
      "Epoch 42/50\n",
      "1/1 - 0s - loss: 0.6308 - binary_accuracy: 0.6691 - val_loss: 0.7755 - val_binary_accuracy: 0.6172\n",
      "Epoch 43/50\n",
      "1/1 - 0s - loss: 0.6514 - binary_accuracy: 0.6885 - val_loss: 0.7561 - val_binary_accuracy: 0.6181\n",
      "Epoch 44/50\n",
      "1/1 - 0s - loss: 0.6294 - binary_accuracy: 0.6660 - val_loss: 0.7380 - val_binary_accuracy: 0.6162\n",
      "Epoch 45/50\n",
      "1/1 - 0s - loss: 0.6064 - binary_accuracy: 0.6957 - val_loss: 0.7237 - val_binary_accuracy: 0.6199\n",
      "Epoch 46/50\n",
      "1/1 - 0s - loss: 0.6077 - binary_accuracy: 0.6701 - val_loss: 0.7073 - val_binary_accuracy: 0.6310\n",
      "Epoch 47/50\n",
      "1/1 - 0s - loss: 0.5609 - binary_accuracy: 0.7275 - val_loss: 0.7655 - val_binary_accuracy: 0.6559\n",
      "Epoch 48/50\n",
      "1/1 - 0s - loss: 0.6396 - binary_accuracy: 0.7049 - val_loss: 0.7813 - val_binary_accuracy: 0.6799\n",
      "Epoch 49/50\n",
      "1/1 - 0s - loss: 0.5986 - binary_accuracy: 0.7223 - val_loss: 0.7966 - val_binary_accuracy: 0.6836\n",
      "Epoch 50/50\n",
      "1/1 - 0s - loss: 0.6146 - binary_accuracy: 0.7561 - val_loss: 0.6824 - val_binary_accuracy: 0.6808\n"
     ]
    }
   ],
   "source": [
    "history = model.fit(\n",
    "    train_flow, epochs=epochs, validation_data=test_flow, verbose=2, shuffle=False\n",
    ")"
   ]
  },
  {
   "cell_type": "markdown",
   "metadata": {},
   "source": [
    "Plot the training history:"
   ]
  },
  {
   "cell_type": "code",
   "execution_count": 18,
   "metadata": {},
   "outputs": [
    {
     "data": {
      "image/png": "[encoded data removed]",
      "text/plain": [
       "<Figure size 504x576 with 2 Axes>"
      ]
     },
     "metadata": {
      "needs_background": "light"
     },
     "output_type": "display_data"
    }
   ],
   "source": [
    "sg.utils.plot_history(history)"
   ]
  },
  {
   "cell_type": "markdown",
   "metadata": {},
   "source": [
    "Evaluate the trained model on test citation links:"
   ]
  },
  {
   "cell_type": "code",
   "execution_count": 19,
   "metadata": {},
   "outputs": [
    {
     "name": "stdout",
     "output_type": "stream",
     "text": [
      "1/1 [==============================] - 0s 2ms/step - loss: 0.4322 - binary_accuracy: 0.7889\n",
      "1/1 [==============================] - 0s 2ms/step - loss: 0.6824 - binary_accuracy: 0.6808\n",
      "\n",
      "Train Set Metrics of the trained model:\n",
      "\tloss: 0.4322\n",
      "\tbinary_accuracy: 0.7889\n",
      "\n",
      "Test Set Metrics of the trained model:\n",
      "\tloss: 0.6824\n",
      "\tbinary_accuracy: 0.6808\n"
     ]
    }
   ],
   "source": [
    "train_metrics = model.evaluate(train_flow)\n",
    "test_metrics = model.evaluate(test_flow)\n",
    "\n",
    "print(\"\\nTrain Set Metrics of the trained model:\")\n",
    "for name, val in zip(model.metrics_names, train_metrics):\n",
    "    print(\"\\t{}: {:0.4f}\".format(name, val))\n",
    "\n",
    "print(\"\\nTest Set Metrics of the trained model:\")\n",
    "for name, val in zip(model.metrics_names, test_metrics):\n",
    "    print(\"\\t{}: {:0.4f}\".format(name, val))"
   ]
  },
  {
   "cell_type": "code",
   "execution_count": null,
   "metadata": {},
   "outputs": [],
   "source": []
  }
 ],
 "metadata": {
  "file_extension": ".py",
  "kernelspec": {
   "display_name": "Python 3",
   "language": "python",
   "name": "python3"
  },
  "language_info": {
   "codemirror_mode": {
    "name": "ipython",
    "version": 3
   },
   "file_extension": ".py",
   "mimetype": "text/x-python",
   "name": "python",
   "nbconvert_exporter": "python",
   "pygments_lexer": "ipython3",
   "version": "3.7.7"
  },
  "mimetype": "text/x-python",
  "name": "python",
  "npconvert_exporter": "python",
  "pygments_lexer": "ipython3",
  "version": 3
 },
 "nbformat": 4,
 "nbformat_minor": 4
}
